{
 "cells": [
  {
   "cell_type": "markdown",
   "metadata": {},
   "source": [
    "# Training Neural Networks with Keras\n",
    "\n",
    "Welcome to the first practical session of the course! In this session, we will learn how to train neural networks with Keras. We will start with a simple example of a feedforward neural network for classification and then we will study the impact of the initialization of the weights on the convergence of the training algorithm.\n",
    "\n",
    "Keras is a high-level neural network API, built on top of TensorFlow 2.0. It provides a user-friendly interface to build, train and deploy deep learning models. Keras is designed to be modular, fast and easy to use.\n",
    "\n",
    "Throughout this course, we will focus on using Keras and TensorFlow for building and training neural networks. However, there are other popular deep learning frameworks such as PyTorch, MXNet, CNTK, etc. that you can also use to build and train neural networks.\n",
    "\n",
    "In order to use our code on Google Colab, we will need to ensure that any required packages are installed. We will use the following packages in this session:\n",
    "\n",
    "- `tensorflow`: an open-source library for numerical computation and large-scale machine learning.\n",
    "- `matplotlib`: a plotting library for the Python programming language and its numerical mathematics extension NumPy.\n",
    "- `numpy`: a library for scientific computing in Python.\n",
    "- `scikit-learn`: a machine learning library for the Python programming language.\n",
    "- `pandas`: a library providing high-performance, easy-to-use data structures and data analysis tools for the Python programming language.\n",
    "\n",
    "The following cell will check if the packages are installed, and if not, it will install them. Students familiar with how pip works might note that it already checks this before installing! The reason for this code (which will also appear in subsequent notebooks) is to speed up execution if you re-run the entire notebook - it will skip the installation step if the packages are already installed."
   ]
  },
  {
   "cell_type": "markdown",
   "metadata": {
    "collapsed": false
   },
   "source": [
    "With the packages installed, we can now get started on the practical session!\n",
    "\n",
    "Today, we will be working with the famous MNIST dataset. MNIST (Modified National Institute of Standards and Technology) is a database of low resolution images of handwritten digits. The history here is interesting - the dataset was originally created in the 1980s, when researchers from the aforementioned institute collected samples from American Census Bureau employees and high school students. The dataset was then modified in the 1990s (hence the M in MNIST), and has since become a popular benchmark for machine learning algorithms. \n",
    "\n",
    "The dataset contains images, each of which is a 28x28 grayscale image of a handwritten digit. The goal is to classify each image into one of the 10 possible classes (0-9).\n",
    "\n",
    "![MNIST](https://upload.wikimedia.org/wikipedia/commons/2/27/MnistExamples.png)\n",
    "\n",
    "The Scikit-Learn library provides a convenient function to download and load the MNIST dataset. The following cell will download the dataset. Then we will take a look at the shape of the data."
   ]
  },
  {
   "cell_type": "code",
   "execution_count": 1,
   "metadata": {},
   "outputs": [],
   "source": [
    "import matplotlib.pyplot as plt\n",
    "import numpy as np\n",
    "\n",
    "from sklearn.datasets import load_digits\n",
    "\n",
    "digits = load_digits()"
   ]
  },
  {
   "cell_type": "code",
   "execution_count": 2,
   "metadata": {},
   "outputs": [
    {
     "data": {
      "text/plain": [
       "(1797, 8, 8)"
      ]
     },
     "execution_count": 2,
     "metadata": {},
     "output_type": "execute_result"
    }
   ],
   "source": [
    "digits.images.shape"
   ]
  },
  {
   "cell_type": "markdown",
   "metadata": {
    "collapsed": false
   },
   "source": [
    "This means that we have 1797 images, each of which is a 8x8 image. For basic image processing, we will need to flatten the images into a 1D array. In this case, Scikit-Learn has already provided the data in this format too:"
   ]
  },
  {
   "cell_type": "code",
   "execution_count": 3,
   "metadata": {},
   "outputs": [
    {
     "data": {
      "text/plain": [
       "(1797, 64)"
      ]
     },
     "execution_count": 3,
     "metadata": {},
     "output_type": "execute_result"
    }
   ],
   "source": [
    "digits.data.shape"
   ]
  },
  {
   "cell_type": "markdown",
   "metadata": {
    "collapsed": false
   },
   "source": [
    "For each image, we also have the corresponding label (or target, or class) in `digits.target`:"
   ]
  },
  {
   "cell_type": "code",
   "execution_count": 4,
   "metadata": {},
   "outputs": [
    {
     "data": {
      "text/plain": [
       "(1797,)"
      ]
     },
     "execution_count": 4,
     "metadata": {},
     "output_type": "execute_result"
    }
   ],
   "source": [
    "digits.target.shape"
   ]
  },
  {
   "cell_type": "markdown",
   "metadata": {
    "collapsed": false
   },
   "source": [
    "We can take a look at some random images from the dataset. The following cell will select 9 random images and plot them in a 3x3 grid (meaning that you can rerun the cell to see different images)."
   ]
  },
  {
   "cell_type": "code",
   "execution_count": 5,
   "metadata": {},
   "outputs": [
    {
     "data": {
      "image/png": "[encoded data removed]",
      "text/plain": [
       "<Figure size 600x600 with 9 Axes>"
      ]
     },
     "metadata": {},
     "output_type": "display_data"
    }
   ],
   "source": [
    "# Selecting 9 random indices\n",
    "random_indices = np.random.choice(len(digits.images), 9, replace=False)\n",
    "\n",
    "# Creating a 3x3 grid plot\n",
    "fig, axes = plt.subplots(3, 3, figsize=(6, 6))\n",
    "\n",
    "for i, ax in enumerate(axes.flat):\n",
    "    ax.imshow(digits.images[random_indices[i]], cmap=plt.cm.gray_r, interpolation='nearest')\n",
    "    ax.set_title(f\"Label: {digits.target[random_indices[i]]}\")\n",
    "\n",
    "    # Removing axis labels\n",
    "    ax.set_xticks([])\n",
    "    ax.set_yticks([])\n",
    "\n",
    "plt.show()"
   ]
  },
  {
   "cell_type": "markdown",
   "metadata": {
    "collapsed": false
   },
   "source": [
    "As you can see, these images are very low resolution. This is because they were originally scanned from paper forms, and then scaled down to 8x8 pixels. This is a common problem in machine learning - the quality of the data is often a limiting factor in the performance of the model. In this case, the low resolution of the images makes it difficult to distinguish between some digits, even for humans. For example, the following images are all labelled as 9, but they look very different:"
   ]
  },
  {
   "cell_type": "code",
   "execution_count": 6,
   "metadata": {
    "collapsed": false
   },
   "outputs": [
    {
     "data": {
      "image/png": "[encoded data removed]",
      "text/plain": [
       "<Figure size 600x600 with 9 Axes>"
      ]
     },
     "metadata": {},
     "output_type": "display_data"
    }
   ],
   "source": [
    "# Selecting 9 random indices of images labelled as 9\n",
    "random_indices = np.random.choice(np.where(digits.target == 9)[0], 9, replace=False)\n",
    "\n",
    "# Creating a 3x3 grid plot\n",
    "fig, axes = plt.subplots(3, 3, figsize=(6, 6))\n",
    "\n",
    "for i, ax in enumerate(axes.flat):\n",
    "    ax.imshow(digits.images[random_indices[i]], cmap=plt.cm.gray_r, interpolation='nearest')\n",
    "    ax.set_title(f\"Label: {digits.target[random_indices[i]]}\")\n",
    "\n",
    "    # Removing axis labels\n",
    "    ax.set_xticks([])\n",
    "    ax.set_yticks([])\n",
    "    \n",
    "plt.show()"
   ]
  },
  {
   "cell_type": "markdown",
   "metadata": {
    "collapsed": false
   },
   "source": [
    "While we are plotting the samples as images, remember that our model is only going to see a 1D array of numbers. "
   ]
  },
  {
   "cell_type": "markdown",
   "metadata": {},
   "source": [
    "## Train / Test Split\n",
    "\n",
    "In order to understand how well our model performs on _new_ data, we need to split our dataset into a training set and a test set. The training set will be used to train the model, and the test set will be used to evaluate the performance of the model.\n",
    "\n",
    "Let's keep some held-out data to be able to measure the generalization performance of our model. "
   ]
  },
  {
   "cell_type": "code",
   "execution_count": 7,
   "metadata": {},
   "outputs": [],
   "source": [
    "from sklearn.model_selection import train_test_split\n",
    "\n",
    "\n",
    "X_train, X_test, y_train, y_test = train_test_split(\n",
    "    digits.data, \n",
    "    digits.target,\n",
    "    test_size=0.2, # 20% of the data is used for testing\n",
    "    random_state=42 # Providing a value here means getting the same \"random\" split every time\n",
    ")"
   ]
  },
  {
   "cell_type": "markdown",
   "metadata": {
    "collapsed": false
   },
   "source": [
    "Let's confirm that the data has been split correctly:"
   ]
  },
  {
   "cell_type": "code",
   "execution_count": 8,
   "metadata": {
    "collapsed": false
   },
   "outputs": [
    {
     "name": "stdout",
     "output_type": "stream",
     "text": [
      "X_train shape: (1437, 64)\n",
      "y_train shape: (1437,)\n",
      "X_test shape: (360, 64)\n",
      "y_test shape: (360,)\n"
     ]
    }
   ],
   "source": [
    "print(f'X_train shape: {X_train.shape}')\n",
    "print(f'y_train shape: {y_train.shape}')\n",
    "print(f'X_test shape: {X_test.shape}')\n",
    "print(f'y_test shape: {y_test.shape}')"
   ]
  },
  {
   "cell_type": "markdown",
   "metadata": {
    "collapsed": false
   },
   "source": [
    "This is what we expected to see. It's always good to check as you go, to make sure that you haven't made a mistake somewhere - this is something that working in a notebook like this makes it easy to do."
   ]
  },
  {
   "cell_type": "markdown",
   "metadata": {},
   "source": [
    "## Preprocessing of the Target Data\n",
    "\n",
    "The labels that we have are integers between 0 and 9. However, we want to train a neural network to classify the images into one of 10 classes. It can be a little counter-intuitive because we are dealing with numbers, but our classes are not ordinal.\n",
    "\n",
    "What do we mean by that? Let's imagine we were trying to predict the height of a building (separated into classes) from images. If a given building was actually 10m tall, and our model predicted 9m, we would consider that to be a better prediction than if it predicted 1m. This is because the classes are ordinal - there is meaning in the difference between the classes.\n",
    "\n",
    "In our case, even though we are dealing with numbers, the classes are not ordinal. If a given image is actually a 9, and our model predicts 8, we would consider that to be just as bad as if it predicted 1. This is because the classes are not ordered, and the difference between the classes is not meaningful.\n",
    "\n",
    "Because of this, we need to convert our labels from an integer value into a one-hot encoded vector. This means that each label will be represented as a vector of length 10, with a 1 in the position corresponding to the class, and 0s everywhere else. For example, the label 9 would be represented as `[0, 0, 0, 0, 0, 0, 0, 0, 0, 1]`. This is a common way of representing categorical data in machine learning. By doing this, we ensure that our model is taught the correct relationship between the classes."
   ]
  },
  {
   "cell_type": "code",
   "execution_count": 9,
   "metadata": {},
   "outputs": [
    {
     "name": "stdout",
     "output_type": "stream",
     "text": [
      "Before one-hot encoding: 6\n",
      "After one-hot encoding: [0. 0. 0. 0. 0. 0. 1. 0. 0. 0.]\n"
     ]
    }
   ],
   "source": [
    "from tensorflow.keras.utils import to_categorical\n",
    "\n",
    "print(f'Before one-hot encoding: {y_train[0]}')\n",
    "y_train = to_categorical(y_train, num_classes=10)\n",
    "y_test = to_categorical(y_test, num_classes=10)\n",
    "print(f'After one-hot encoding: {y_train[0]}')"
   ]
  },
  {
   "cell_type": "markdown",
   "metadata": {},
   "source": [
    "## Feed Forward Neural Networks with Keras\n",
    "\n",
    "Now that we have prepared our data, it's time to build a simple neural network! In this section, we will use the Keras API to build a simple feed forward neural network. We will then train the model on the MNIST dataset, and evaluate its performance on the test set.\n",
    "\n",
    "In most modern deep learning frameworks, the process of building a model can be broken down into a few steps:\n",
    "\n",
    "- Define the model architecture: this is where we define the layers of the model, and how they are connected to each other.\n",
    "- Compile the model: this is where we define the loss function, the optimizer, and the metrics that we want to use to evaluate the model.\n",
    "- Train the model: this is where we train the model on the training data.\n",
    "\n",
    "Let's start with defining the model architecture. There are two ways to do this in Keras - the Sequential API and the Functional API. The Sequential API is the simplest way to build a model, and is suitable for most use cases. The Functional API is more flexible, and allows you to build more complex models. We will start with the Sequential API, and then we will look at the Functional API later in the course.\n",
    "\n",
    "Our simple neural network will be \"fully-connected\". This means that each neuron in a given layer is connected to every neuron in the next layer. This is also known as a \"dense\" layer. We will use the `Dense` class from Keras to define our layers."
   ]
  },
  {
   "cell_type": "code",
   "execution_count": 10,
   "metadata": {
    "collapsed": false
   },
   "outputs": [
    {
     "name": "stdout",
     "output_type": "stream",
     "text": [
      "Model: \"sequential\"\n",
      "_________________________________________________________________\n",
      " Layer (type)                Output Shape              Param #   \n",
      "=================================================================\n",
      " dense (Dense)               (None, 64)                4160      \n",
      "                                                                 \n",
      " dense_1 (Dense)             (None, 64)                4160      \n",
      "                                                                 \n",
      " dense_2 (Dense)             (None, 10)                650       \n",
      "                                                                 \n",
      "=================================================================\n",
      "Total params: 8,970\n",
      "Trainable params: 8,970\n",
      "Non-trainable params: 0\n",
      "_________________________________________________________________\n"
     ]
    }
   ],
   "source": [
    "from tensorflow.keras.models import Sequential\n",
    "from tensorflow.keras.layers import Dense\n",
    "\n",
    "model = Sequential()\n",
    "\n",
    "# Input layer\n",
    "model.add(Dense(64, activation='relu', input_shape=(64,))) # 64 neurons, ReLU activation, input shape of 64\n",
    "\n",
    "# Hidden layer\n",
    "model.add(Dense(64, activation='relu')) # 64 neurons, ReLU activation\n",
    "\n",
    "# Output layer\n",
    "model.add(Dense(10, activation='softmax')) # 10 neurons, softmax activation\n",
    "\n",
    "model.summary()"
   ]
  },
  {
   "cell_type": "markdown",
   "metadata": {
    "collapsed": false
   },
   "source": [
    "Congratulations! You have just built your first neural network with Keras. As we can confirm from the `model.summary()` output, our model has 3 layers. The first layer has 64 neurons, the second layer has 64 neurons, and the output layer has 10 neurons. The output layer uses the softmax activation function, which is commonly used for multi-class classification problems. The other layers use the ReLU activation function, which is commonly used for hidden layers in neural networks.\n",
    "\n",
    "Next, we need to compile the model. This is where we define the loss function, the optimizer, and the metrics that we want to use to evaluate the model. We will use the `compile` method of the model to do this."
   ]
  },
  {
   "cell_type": "code",
   "execution_count": 11,
   "metadata": {
    "collapsed": false
   },
   "outputs": [],
   "source": [
    "model.compile(\n",
    "    loss='categorical_crossentropy', # Loss function\n",
    "    optimizer='sgd', # Optimizer\n",
    "    metrics=['accuracy'] # Metrics to evaluate the model\n",
    ")"
   ]
  },
  {
   "cell_type": "markdown",
   "metadata": {
    "collapsed": false
   },
   "source": [
    "Because we are predicting which class a sample belongs to, we will use the `categorical_crossentropy` function. This loss function is commonly used for multi-class classification problems. \n",
    "\n",
    "For our optimizer, we are using the standard stochastic gradient descent (SGD) algorithm. This is a simple optimizer that works well for many problems. We will look at more advanced optimizers later in the course.\n",
    "\n",
    "Finally, we are using the `accuracy` metric to evaluate the model. This is a common metric for classification problems, and it is simply the fraction of samples that are correctly classified. This is an easier metric for us to understand, but it's not quite as useful for actually training the model (for example, it doesn't tell us how \"confident\" the model is in its predictions).\n",
    "\n",
    "Now that we have (a) defined the model architecture and (b) compiled the model, we are ready to train the model. We will use the `fit` method of the model to do this."
   ]
  },
  {
   "cell_type": "code",
   "execution_count": 12,
   "metadata": {
    "collapsed": false
   },
   "outputs": [
    {
     "name": "stdout",
     "output_type": "stream",
     "text": [
      "Epoch 1/5\n",
      "36/36 [==============================] - 6s 49ms/step - loss: 1.4180 - accuracy: 0.6292 - val_loss: 0.6075 - val_accuracy: 0.7986\n",
      "Epoch 2/5\n",
      "36/36 [==============================] - 0s 14ms/step - loss: 0.4213 - accuracy: 0.8764 - val_loss: 0.3743 - val_accuracy: 0.8715\n",
      "Epoch 3/5\n",
      "36/36 [==============================] - 1s 14ms/step - loss: 0.2672 - accuracy: 0.9217 - val_loss: 0.2846 - val_accuracy: 0.9167\n",
      "Epoch 4/5\n",
      "36/36 [==============================] - 0s 10ms/step - loss: 0.2004 - accuracy: 0.9495 - val_loss: 0.2649 - val_accuracy: 0.9097\n",
      "Epoch 5/5\n",
      "36/36 [==============================] - 1s 26ms/step - loss: 0.1568 - accuracy: 0.9574 - val_loss: 0.2110 - val_accuracy: 0.9236\n"
     ]
    },
    {
     "data": {
      "text/plain": [
       "<keras.callbacks.History at 0x1acb54917f0>"
      ]
     },
     "execution_count": 12,
     "metadata": {},
     "output_type": "execute_result"
    }
   ],
   "source": [
    "model.fit(\n",
    "    X_train, # Training data\n",
    "    y_train, # Training labels\n",
    "    epochs=5, # Number of epochs\n",
    "    batch_size=32, # Number of samples per batch\n",
    "    validation_split=0.2 # Use 20% of the data for validation\n",
    ")"
   ]
  },
  {
   "cell_type": "markdown",
   "metadata": {
    "collapsed": false
   },
   "source": [
    "We have now trained our model! We can see that the model has been trained for 5 epochs, and the loss and accuracy have been printed for each epoch. We can also see that the model has been evaluated on the validation data at the end of each epoch. This is useful for us to see how the model is performing on data that it hasn't seen during training.\n",
    "\n",
    "Once the model is trained, it's time to evaluate the model on the test set. We can use the `evaluate` method of the model to do this. If you were building a model for a real-world application, this is the very last thing you would do, and the result here would be the figure you'd report in your paper or presentation."
   ]
  },
  {
   "cell_type": "code",
   "execution_count": 13,
   "metadata": {
    "collapsed": false
   },
   "outputs": [
    {
     "name": "stdout",
     "output_type": "stream",
     "text": [
      "12/12 [==============================] - 1s 7ms/step - loss: 0.1911 - accuracy: 0.9361\n",
      "Loss:     0.19\n",
      "Accuracy: 93.61%\n"
     ]
    }
   ],
   "source": [
    "loss, accuracy = model.evaluate(X_test, y_test)\n",
    "\n",
    "print(f'Loss:     {loss:.2f}')\n",
    "print(f'Accuracy: {accuracy*100:.2f}%')"
   ]
  },
  {
   "cell_type": "markdown",
   "metadata": {
    "collapsed": false
   },
   "source": [
    "Hopefully you have achieved an accuracy of around 95%. This is pretty good, but we can do better! In the next section, we will look at how we can improve the performance of our model by using a more advanced optimizer. But before we get there, let's do one other thing - let's look at the predictions that our model is making on the test set. When you are building a model, it's often useful to have a look at some of the examples your model is getting wrong. Sometimes this can reveal problems with the data, or it can give you ideas for how to improve your model."
   ]
  },
  {
   "cell_type": "code",
   "execution_count": 14,
   "metadata": {
    "collapsed": false
   },
   "outputs": [
    {
     "name": "stdout",
     "output_type": "stream",
     "text": [
      "12/12 [==============================] - 0s 6ms/step\n"
     ]
    },
    {
     "data": {
      "image/png": "[encoded data removed]",
      "text/plain": [
       "<Figure size 600x600 with 9 Axes>"
      ]
     },
     "metadata": {},
     "output_type": "display_data"
    }
   ],
   "source": [
    "# Get the predictions for the test data\n",
    "predictions = model.predict(X_test)\n",
    "\n",
    "# Get the index of the largest probability (i.e. the predicted class)\n",
    "predicted_classes = np.argmax(predictions, axis=1)\n",
    "true_classes = np.argmax(y_test, axis=1)\n",
    "misclassified_indices = np.where(predicted_classes != true_classes)[0]\n",
    "\n",
    "# Get the misclassified samples themselves\n",
    "misclassified_samples = X_test[misclassified_indices]\n",
    "misclassified_labels = np.argmax(y_test[misclassified_indices], axis=1)\n",
    "\n",
    "# Pick 9 random misclassified samples\n",
    "random_indices = np.random.choice(len(misclassified_indices), 9, replace=False)\n",
    "\n",
    "fig, axes = plt.subplots(3, 3, figsize=(6, 6))\n",
    "for i, ax in enumerate(axes.flat):\n",
    "    ax.imshow(misclassified_samples[random_indices[i]].reshape(8, 8), cmap=plt.cm.gray_r, interpolation='nearest')\n",
    "    ax.set_title(f\"Pred: {predicted_classes[misclassified_indices[random_indices[i]]]}, Real: {misclassified_labels[random_indices[i]]}\")\n",
    "\n",
    "    # Removing axis labels\n",
    "    ax.set_xticks([])\n",
    "    ax.set_yticks([])\n",
    "    \n",
    "plt.show()"
   ]
  },
  {
   "cell_type": "markdown",
   "metadata": {
    "collapsed": false
   },
   "source": [
    "What do you think? Would you have made the same mistakes as the model? Determining whether the mistakes are \"understandable\" is a rough way of seeing if you could improve the model further, or if this is the best you can do with the data you have."
   ]
  },
  {
   "cell_type": "markdown",
   "metadata": {},
   "source": [
    "### b) Exercises: Impact of the Optimizer\n",
    "\n",
    "In this section, you will play around with the optimizer and see how it affects the performance of the model. We will start with the standard SGD optimizer, and then we will look at more advanced optimizers.\n",
    "\n",
    "1. Try decreasing the learning rate of the SGD optimizer by a factor of 10, or 100. What do you observe?\n",
    "2. Try increasing the learning rate of the SGD optimizer. What happens?\n",
    "3. The SGD optimizer has a momentum parameter. In a nutshell, this parameter controls how much the gradient from the previous step affects the current step. Try enabling momentum in the SGD optimizer with a value of 0.9. What happens?\n",
    "  \n",
    "**Notes**: \n",
    "\n",
    "The keras API documentation is available at:\n",
    "\n",
    "https://www.tensorflow.org/api_docs/python/tf/keras\n",
    "\n",
    "It is also possible to learn more about the parameters of a class by using the question mark: type and evaluate:\n",
    "\n",
    "```python\n",
    "optimizers.SGD?\n",
    "```\n",
    "\n",
    "in a jupyter notebook cell.\n",
    "\n",
    "It is also possible to type the beginning of a function call / constructor and type \"shift-tab\" after the opening paren:\n",
    "\n",
    "```python\n",
    "optimizers.SGD(<shift-tab>\n",
    "```"
   ]
  },
  {
   "cell_type": "code",
   "execution_count": 15,
   "metadata": {},
   "outputs": [
    {
     "name": "stdout",
     "output_type": "stream",
     "text": [
      "Epoch 1/15\n",
      "45/45 [==============================] - 2s 6ms/step - loss: 0.1434 - accuracy: 0.9596\n",
      "Epoch 2/15\n",
      "45/45 [==============================] - 0s 5ms/step - loss: 0.1167 - accuracy: 0.9715\n",
      "Epoch 3/15\n",
      "45/45 [==============================] - 0s 5ms/step - loss: 0.0996 - accuracy: 0.9736\n",
      "Epoch 4/15\n",
      "45/45 [==============================] - 0s 6ms/step - loss: 0.0836 - accuracy: 0.9791\n",
      "Epoch 5/15\n",
      "45/45 [==============================] - 0s 9ms/step - loss: 0.0742 - accuracy: 0.9805\n",
      "Epoch 6/15\n",
      "45/45 [==============================] - 1s 13ms/step - loss: 0.0663 - accuracy: 0.9840\n",
      "Epoch 7/15\n",
      "45/45 [==============================] - 0s 10ms/step - loss: 0.0580 - accuracy: 0.9882\n",
      "Epoch 8/15\n",
      "45/45 [==============================] - 1s 12ms/step - loss: 0.0525 - accuracy: 0.9896\n",
      "Epoch 9/15\n",
      "45/45 [==============================] - 0s 4ms/step - loss: 0.0481 - accuracy: 0.9882\n",
      "Epoch 10/15\n",
      "45/45 [==============================] - 0s 8ms/step - loss: 0.0422 - accuracy: 0.9944\n",
      "Epoch 11/15\n",
      "45/45 [==============================] - 0s 8ms/step - loss: 0.0383 - accuracy: 0.9958\n",
      "Epoch 12/15\n",
      "45/45 [==============================] - 0s 4ms/step - loss: 0.0365 - accuracy: 0.9930\n",
      "Epoch 13/15\n",
      "45/45 [==============================] - 0s 4ms/step - loss: 0.0337 - accuracy: 0.9958\n",
      "Epoch 14/15\n",
      "45/45 [==============================] - 0s 4ms/step - loss: 0.0297 - accuracy: 0.9972\n",
      "Epoch 15/15\n",
      "45/45 [==============================] - 0s 5ms/step - loss: 0.0280 - accuracy: 0.9972\n"
     ]
    },
    {
     "data": {
      "text/plain": [
       "<keras.callbacks.History at 0x1acb7a458e0>"
      ]
     },
     "execution_count": 15,
     "metadata": {},
     "output_type": "execute_result"
    }
   ],
   "source": [
    "from tensorflow.keras import optimizers\n",
    "\n",
    "# Decrease the learning rate by a factor of 10\n",
    "model.compile(optimizer=optimizers.SGD(learning_rate=0.01), loss='categorical_crossentropy', metrics=['accuracy'])\n",
    "model.fit(X_train,y_train, epochs=15, batch_size=32)"
   ]
  },
  {
   "cell_type": "code",
   "execution_count": 16,
   "metadata": {},
   "outputs": [
    {
     "name": "stdout",
     "output_type": "stream",
     "text": [
      "Epoch 1/15\n",
      "45/45 [==============================] - 1s 4ms/step - loss: 0.0232 - accuracy: 0.9979\n",
      "Epoch 2/15\n",
      "45/45 [==============================] - 0s 5ms/step - loss: 0.0224 - accuracy: 0.9986\n",
      "Epoch 3/15\n",
      "45/45 [==============================] - 0s 4ms/step - loss: 0.0222 - accuracy: 0.9993\n",
      "Epoch 4/15\n",
      "45/45 [==============================] - 0s 5ms/step - loss: 0.0219 - accuracy: 0.9993\n",
      "Epoch 5/15\n",
      "45/45 [==============================] - 0s 8ms/step - loss: 0.0218 - accuracy: 0.9993\n",
      "Epoch 6/15\n",
      "45/45 [==============================] - 0s 4ms/step - loss: 0.0216 - accuracy: 0.9993\n",
      "Epoch 7/15\n",
      "45/45 [==============================] - 0s 4ms/step - loss: 0.0215 - accuracy: 0.9993\n",
      "Epoch 8/15\n",
      "45/45 [==============================] - 0s 4ms/step - loss: 0.0214 - accuracy: 0.9993\n",
      "Epoch 9/15\n",
      "45/45 [==============================] - 0s 9ms/step - loss: 0.0213 - accuracy: 0.9993\n",
      "Epoch 10/15\n",
      "45/45 [==============================] - 0s 5ms/step - loss: 0.0212 - accuracy: 0.9993\n",
      "Epoch 11/15\n",
      "45/45 [==============================] - 0s 4ms/step - loss: 0.0210 - accuracy: 0.9993\n",
      "Epoch 12/15\n",
      "45/45 [==============================] - 0s 8ms/step - loss: 0.0209 - accuracy: 0.9993\n",
      "Epoch 13/15\n",
      "45/45 [==============================] - 0s 3ms/step - loss: 0.0207 - accuracy: 0.9993\n",
      "Epoch 14/15\n",
      "45/45 [==============================] - 0s 8ms/step - loss: 0.0206 - accuracy: 0.9993\n",
      "Epoch 15/15\n",
      "45/45 [==============================] - 0s 4ms/step - loss: 0.0205 - accuracy: 0.9993\n"
     ]
    },
    {
     "data": {
      "text/plain": [
       "<keras.callbacks.History at 0x1acb7f34220>"
      ]
     },
     "execution_count": 16,
     "metadata": {},
     "output_type": "execute_result"
    }
   ],
   "source": [
    "from tensorflow.keras import optimizers\n",
    "\n",
    "# Decrease the learning rate by a factor of 100\n",
    "model.compile(optimizer=optimizers.SGD(learning_rate=0.001), loss='categorical_crossentropy', metrics=['accuracy'])\n",
    "model.fit(X_train,y_train, epochs=15, batch_size=32)"
   ]
  },
  {
   "cell_type": "code",
   "execution_count": 17,
   "metadata": {},
   "outputs": [
    {
     "name": "stdout",
     "output_type": "stream",
     "text": [
      "Epoch 1/15\n",
      "45/45 [==============================] - 1s 5ms/step - loss: 59771876.0000 - accuracy: 0.1162\n",
      "Epoch 2/15\n",
      "45/45 [==============================] - 0s 4ms/step - loss: 2.3102 - accuracy: 0.1009\n",
      "Epoch 3/15\n",
      "45/45 [==============================] - 0s 4ms/step - loss: 2.3126 - accuracy: 0.0981\n",
      "Epoch 4/15\n",
      "45/45 [==============================] - 0s 4ms/step - loss: 2.3111 - accuracy: 0.0960\n",
      "Epoch 5/15\n",
      "45/45 [==============================] - 0s 7ms/step - loss: 2.3112 - accuracy: 0.1002\n",
      "Epoch 6/15\n",
      "45/45 [==============================] - 0s 4ms/step - loss: 2.3113 - accuracy: 0.0926\n",
      "Epoch 7/15\n",
      "45/45 [==============================] - 0s 4ms/step - loss: 2.3134 - accuracy: 0.0981\n",
      "Epoch 8/15\n",
      "45/45 [==============================] - 0s 4ms/step - loss: 2.3122 - accuracy: 0.0793\n",
      "Epoch 9/15\n",
      "45/45 [==============================] - 0s 5ms/step - loss: 2.3104 - accuracy: 0.1016\n",
      "Epoch 10/15\n",
      "45/45 [==============================] - 0s 8ms/step - loss: 2.3117 - accuracy: 0.0932\n",
      "Epoch 11/15\n",
      "45/45 [==============================] - 0s 7ms/step - loss: 2.3100 - accuracy: 0.0995\n",
      "Epoch 12/15\n",
      "45/45 [==============================] - 0s 8ms/step - loss: 2.3125 - accuracy: 0.0800\n",
      "Epoch 13/15\n",
      "45/45 [==============================] - 0s 6ms/step - loss: 2.3084 - accuracy: 0.1002\n",
      "Epoch 14/15\n",
      "45/45 [==============================] - 0s 4ms/step - loss: 2.3110 - accuracy: 0.1016\n",
      "Epoch 15/15\n",
      "45/45 [==============================] - 0s 3ms/step - loss: 2.3124 - accuracy: 0.0877\n"
     ]
    },
    {
     "data": {
      "text/plain": [
       "<keras.callbacks.History at 0x1acb90ba430>"
      ]
     },
     "execution_count": 17,
     "metadata": {},
     "output_type": "execute_result"
    }
   ],
   "source": [
    "from tensorflow.keras import optimizers\n",
    "\n",
    "# Increase the learning rate\n",
    "model.compile(optimizer=optimizers.SGD(learning_rate=1), loss='categorical_crossentropy', metrics=['accuracy'])\n",
    "model.fit(X_train,y_train, epochs=15, batch_size=32)"
   ]
  },
  {
   "cell_type": "code",
   "execution_count": 18,
   "metadata": {},
   "outputs": [
    {
     "name": "stdout",
     "output_type": "stream",
     "text": [
      "Epoch 1/15\n",
      "45/45 [==============================] - 1s 4ms/step - loss: 2.3172 - accuracy: 0.0786\n",
      "Epoch 2/15\n",
      "45/45 [==============================] - 0s 4ms/step - loss: 2.3112 - accuracy: 0.0926\n",
      "Epoch 3/15\n",
      "45/45 [==============================] - 0s 4ms/step - loss: 2.3115 - accuracy: 0.0960\n",
      "Epoch 4/15\n",
      "45/45 [==============================] - 0s 5ms/step - loss: 2.3120 - accuracy: 0.0870\n",
      "Epoch 5/15\n",
      "45/45 [==============================] - 1s 20ms/step - loss: 2.3154 - accuracy: 0.0912\n",
      "Epoch 6/15\n",
      "45/45 [==============================] - 1s 21ms/step - loss: 2.3102 - accuracy: 0.0953\n",
      "Epoch 7/15\n",
      "45/45 [==============================] - 1s 17ms/step - loss: 2.3080 - accuracy: 0.0953\n",
      "Epoch 8/15\n",
      "45/45 [==============================] - 0s 5ms/step - loss: 2.3094 - accuracy: 0.0898\n",
      "Epoch 9/15\n",
      "45/45 [==============================] - 0s 10ms/step - loss: 2.3098 - accuracy: 0.0849\n",
      "Epoch 10/15\n",
      "45/45 [==============================] - 0s 5ms/step - loss: 2.3092 - accuracy: 0.1030\n",
      "Epoch 11/15\n",
      "45/45 [==============================] - 0s 5ms/step - loss: 2.3106 - accuracy: 0.0995\n",
      "Epoch 12/15\n",
      "45/45 [==============================] - 0s 4ms/step - loss: 2.3089 - accuracy: 0.0981\n",
      "Epoch 13/15\n",
      "45/45 [==============================] - 0s 10ms/step - loss: 2.3123 - accuracy: 0.0877\n",
      "Epoch 14/15\n",
      "45/45 [==============================] - 0s 6ms/step - loss: 2.3101 - accuracy: 0.0912\n",
      "Epoch 15/15\n",
      "45/45 [==============================] - 0s 5ms/step - loss: 2.3096 - accuracy: 0.0898\n"
     ]
    },
    {
     "data": {
      "text/plain": [
       "<keras.callbacks.History at 0x1acb55e7730>"
      ]
     },
     "execution_count": 18,
     "metadata": {},
     "output_type": "execute_result"
    }
   ],
   "source": [
    "# Enabling momentum in the SGD optimize\n",
    "\n",
    "model.compile(optimizer=optimizers.SGD(learning_rate=0.1, momentum = 0.9), loss='categorical_crossentropy', metrics=['accuracy'])\n",
    "model.fit(X_train,y_train, epochs=15, batch_size=32)"
   ]
  },
  {
   "cell_type": "markdown",
   "metadata": {},
   "source": [
    "Next, let's try a more advanced optimizer. Adam is likely the most popular optimizer for deep learning. It is an adaptive learning rate optimizer, which means that it automatically adjusts the learning rate based on how the training is going. This can be very useful, as it means that we don't need to manually tune the learning rate. Let's see how it performs on our model.\n",
    "\n",
    "\n",
    "1. Replace the SGD optimizer by the Adam optimizer from keras and run it\n",
    "  with the default parameters.\n",
    "\n",
    "2. Add another hidden layer with ReLU activation and 64 neurons. Does it improve the model performance?\n"
   ]
  },
  {
   "cell_type": "code",
   "execution_count": 19,
   "metadata": {},
   "outputs": [
    {
     "name": "stdout",
     "output_type": "stream",
     "text": [
      "Epoch 1/15\n",
      "45/45 [==============================] - 2s 5ms/step - loss: 2.3045 - accuracy: 0.1009\n",
      "Epoch 2/15\n",
      "45/45 [==============================] - 0s 5ms/step - loss: 2.3041 - accuracy: 0.1009\n",
      "Epoch 3/15\n",
      "45/45 [==============================] - 0s 5ms/step - loss: 2.3038 - accuracy: 0.1009\n",
      "Epoch 4/15\n",
      "45/45 [==============================] - 0s 5ms/step - loss: 2.3035 - accuracy: 0.1016\n",
      "Epoch 5/15\n",
      "45/45 [==============================] - 0s 4ms/step - loss: 2.3032 - accuracy: 0.1072\n",
      "Epoch 6/15\n",
      "45/45 [==============================] - 0s 4ms/step - loss: 2.3031 - accuracy: 0.1072\n",
      "Epoch 7/15\n",
      "45/45 [==============================] - 0s 5ms/step - loss: 2.3029 - accuracy: 0.1072\n",
      "Epoch 8/15\n",
      "45/45 [==============================] - 0s 9ms/step - loss: 2.3028 - accuracy: 0.1072\n",
      "Epoch 9/15\n",
      "45/45 [==============================] - 0s 6ms/step - loss: 2.3026 - accuracy: 0.1072\n",
      "Epoch 10/15\n",
      "45/45 [==============================] - 0s 5ms/step - loss: 2.3026 - accuracy: 0.1072\n",
      "Epoch 11/15\n",
      "45/45 [==============================] - 0s 5ms/step - loss: 2.3025 - accuracy: 0.1072\n",
      "Epoch 12/15\n",
      "45/45 [==============================] - 0s 5ms/step - loss: 2.3024 - accuracy: 0.1072\n",
      "Epoch 13/15\n",
      "45/45 [==============================] - 0s 5ms/step - loss: 2.3024 - accuracy: 0.1072\n",
      "Epoch 14/15\n",
      "45/45 [==============================] - 0s 5ms/step - loss: 2.3023 - accuracy: 0.1072\n",
      "Epoch 15/15\n",
      "45/45 [==============================] - 0s 5ms/step - loss: 2.3023 - accuracy: 0.1072\n"
     ]
    },
    {
     "data": {
      "text/plain": [
       "<keras.callbacks.History at 0x1acb6876340>"
      ]
     },
     "execution_count": 19,
     "metadata": {},
     "output_type": "execute_result"
    }
   ],
   "source": [
    "# Replace the SGD optimizer by the Adam optimizer\n",
    "\n",
    "model.compile(optimizer='Adam', loss='categorical_crossentropy', metrics=['accuracy'])\n",
    "model.fit(X_train,y_train, epochs=15, batch_size=32)"
   ]
  },
  {
   "cell_type": "code",
   "execution_count": 20,
   "metadata": {},
   "outputs": [
    {
     "name": "stdout",
     "output_type": "stream",
     "text": [
      "Epoch 1/15\n",
      "45/45 [==============================] - 2s 5ms/step - loss: 1.4355 - accuracy: 0.5852\n",
      "Epoch 2/15\n",
      "45/45 [==============================] - 0s 4ms/step - loss: 0.3334 - accuracy: 0.9095\n",
      "Epoch 3/15\n",
      "45/45 [==============================] - 0s 5ms/step - loss: 0.1983 - accuracy: 0.9457\n",
      "Epoch 4/15\n",
      "45/45 [==============================] - 0s 5ms/step - loss: 0.1254 - accuracy: 0.9666\n",
      "Epoch 5/15\n",
      "45/45 [==============================] - 0s 10ms/step - loss: 0.0963 - accuracy: 0.9770\n",
      "Epoch 6/15\n",
      "45/45 [==============================] - 0s 9ms/step - loss: 0.0723 - accuracy: 0.9840\n",
      "Epoch 7/15\n",
      "45/45 [==============================] - 1s 18ms/step - loss: 0.0534 - accuracy: 0.9882\n",
      "Epoch 8/15\n",
      "45/45 [==============================] - 0s 10ms/step - loss: 0.0455 - accuracy: 0.9910\n",
      "Epoch 9/15\n",
      "45/45 [==============================] - 1s 23ms/step - loss: 0.0312 - accuracy: 0.9944\n",
      "Epoch 10/15\n",
      "45/45 [==============================] - 1s 25ms/step - loss: 0.0238 - accuracy: 0.9965\n",
      "Epoch 11/15\n",
      "45/45 [==============================] - 0s 9ms/step - loss: 0.0201 - accuracy: 0.9972\n",
      "Epoch 12/15\n",
      "45/45 [==============================] - 1s 16ms/step - loss: 0.0154 - accuracy: 0.9972\n",
      "Epoch 13/15\n",
      "45/45 [==============================] - 0s 7ms/step - loss: 0.0143 - accuracy: 0.9972\n",
      "Epoch 14/15\n",
      "45/45 [==============================] - 0s 9ms/step - loss: 0.0101 - accuracy: 0.9986\n",
      "Epoch 15/15\n",
      "45/45 [==============================] - 0s 11ms/step - loss: 0.0091 - accuracy: 0.9986\n"
     ]
    },
    {
     "data": {
      "text/plain": [
       "<keras.callbacks.History at 0x1acba7d79a0>"
      ]
     },
     "execution_count": 20,
     "metadata": {},
     "output_type": "execute_result"
    }
   ],
   "source": [
    "# Add another hidden layer with ReLU activation and 64 neurons\n",
    "\n",
    "model = Sequential()\n",
    "\n",
    "# Input layer\n",
    "model.add(Dense(64, activation='relu', input_shape=(64,))) # 64 neurons, ReLU activation, input shape of 64\n",
    "\n",
    "# Hidden layer\n",
    "model.add(Dense(64, activation='relu')) # 64 neurons, ReLU activation\n",
    "\n",
    "# Another Hidden layer\n",
    "model.add(Dense(64, activation='relu')) # 64 neurons, ReLU activation\n",
    "\n",
    "# Output layer\n",
    "model.add(Dense(10, activation='softmax')) # 10 neurons, softmax activation\n",
    "\n",
    "model.compile(optimizer='Adam', loss='categorical_crossentropy', metrics=['accuracy'])\n",
    "model.fit(X_train,y_train, epochs=15, batch_size=32)"
   ]
  },
  {
   "cell_type": "markdown",
   "metadata": {},
   "source": [
    "### Exercises: Forward Pass and Generalization\n",
    "\n",
    "Let's look in more detail at how the model makes predictions on the test set. We will walk through each step of making predictions, examining exactly what's going on.\n",
    "\n",
    "To start, we will apply our model to the test set, and look at what we get as output:"
   ]
  },
  {
   "cell_type": "code",
   "execution_count": 29,
   "metadata": {},
   "outputs": [
    {
     "data": {
      "text/plain": [
       "<tf.Tensor: shape=(5, 10), dtype=float32, numpy=\n",
       "array([[3.81154451e-03, 1.69580977e-04, 3.52115923e-04, 9.31625380e-07,\n",
       "        1.65118824e-03, 1.00713616e-04, 9.93250251e-01, 1.30118181e-07,\n",
       "        6.62030652e-04, 1.45094702e-06],\n",
       "       [3.64406197e-03, 7.22877940e-06, 6.44146041e-07, 7.78777816e-04,\n",
       "        1.44561665e-04, 9.79400333e-03, 9.13985048e-07, 2.13510310e-03,\n",
       "        1.30702637e-03, 9.82187748e-01],\n",
       "       [1.62439210e-06, 3.09317352e-06, 1.93011854e-03, 9.96412694e-01,\n",
       "        5.10066345e-09, 2.67036579e-04, 3.68772902e-07, 2.23378011e-04,\n",
       "        2.59257475e-04, 9.02403961e-04],\n",
       "       [4.01488724e-05, 3.54473619e-03, 4.68230792e-05, 8.87830625e-04,\n",
       "        5.85249485e-03, 5.25197433e-03, 1.78727146e-06, 9.67459202e-01,\n",
       "        3.34110344e-03, 1.35739017e-02],\n",
       "       [1.81768343e-07, 3.37252975e-04, 9.93979275e-01, 3.61250900e-03,\n",
       "        1.47391518e-07, 3.66117420e-05, 2.54659419e-04, 1.78541504e-05,\n",
       "        1.76013040e-03, 1.41468547e-06]], dtype=float32)>"
      ]
     },
     "execution_count": 29,
     "metadata": {},
     "output_type": "execute_result"
    }
   ],
   "source": [
    "predictions_tf = model(X_test)\n",
    "predictions_tf[:5]"
   ]
  },
  {
   "cell_type": "code",
   "execution_count": 30,
   "metadata": {},
   "outputs": [
    {
     "data": {
      "text/plain": [
       "(tensorflow.python.framework.ops.EagerTensor, TensorShape([360, 10]))"
      ]
     },
     "execution_count": 30,
     "metadata": {},
     "output_type": "execute_result"
    }
   ],
   "source": [
    "type(predictions_tf), predictions_tf.shape"
   ]
  },
  {
   "cell_type": "markdown",
   "metadata": {},
   "source": [
    "The raw output of the model is a tensor of shape `(360, 10)`. This means that we have 360 samples, and for each sample we have 10 values. Each of these values represents the probability that the sample belongs to a given class. This means that we have 10 probabilities for each sample, and the sum of these probabilities is 1. We can confirm this by summing the probabilities for each sample:"
   ]
  },
  {
   "cell_type": "code",
   "execution_count": 31,
   "metadata": {},
   "outputs": [
    {
     "data": {
      "text/plain": [
       "<tf.Tensor: shape=(5,), dtype=float32, numpy=\n",
       "array([0.99999994, 1.        , 1.        , 1.        , 1.        ],\n",
       "      dtype=float32)>"
      ]
     },
     "execution_count": 31,
     "metadata": {},
     "output_type": "execute_result"
    }
   ],
   "source": [
    "import tensorflow as tf\n",
    "\n",
    "tf.reduce_sum(predictions_tf, axis=1)[:5]"
   ]
  },
  {
   "cell_type": "markdown",
   "metadata": {
    "collapsed": false
   },
   "source": [
    "...okay, there might be a small rounding error here and there. This is to do with how floating point numbers are represented in computers, and it's not something we need to worry about for now."
   ]
  },
  {
   "cell_type": "markdown",
   "metadata": {},
   "source": [
    "We can also extract the label with the highest probability using the tensorflow API:"
   ]
  },
  {
   "cell_type": "code",
   "execution_count": 32,
   "metadata": {},
   "outputs": [
    {
     "data": {
      "text/plain": [
       "<tf.Tensor: shape=(5,), dtype=int64, numpy=array([6, 9, 3, 7, 2], dtype=int64)>"
      ]
     },
     "execution_count": 32,
     "metadata": {},
     "output_type": "execute_result"
    }
   ],
   "source": [
    "predicted_labels_tf = tf.argmax(predictions_tf, axis=1)\n",
    "predicted_labels_tf[:5]"
   ]
  },
  {
   "cell_type": "markdown",
   "metadata": {
    "collapsed": false
   },
   "source": [
    "One helpful aspect of this approach is that we don't just get the prediction, but also a sense of how confident the model is in its prediction. To see this in practice, let's take a look at some of the predictions the model is highly confident about (i.e. a lot of the probability mass is on one class):"
   ]
  },
  {
   "cell_type": "code",
   "execution_count": 33,
   "metadata": {
    "collapsed": false
   },
   "outputs": [
    {
     "data": {
      "image/png": "[encoded data removed]",
      "text/plain": [
       "<Figure size 600x600 with 9 Axes>"
      ]
     },
     "metadata": {},
     "output_type": "display_data"
    }
   ],
   "source": [
    "# Get the values corresponding to the predicted labels for each sample\n",
    "predicted_values_tf = tf.reduce_max(predictions_tf, axis=1)\n",
    "\n",
    "# Get the indices of the samples with the highest predicted values\n",
    "most_confident_indices_tf = tf.argsort(predicted_values_tf, direction='DESCENDING').numpy()[:9]\n",
    "\n",
    "# Get the 9 most confident samples\n",
    "most_confident_samples_tf = X_test[most_confident_indices_tf]\n",
    "\n",
    "# Get the true labels for the 9 most confident samples\n",
    "most_confident_labels_tf = np.argmax(y_test[most_confident_indices_tf], axis=1)\n",
    "\n",
    "# Plot the 9 most confident samples\n",
    "fig, axes = plt.subplots(3, 3, figsize=(6, 6))\n",
    "\n",
    "for i, ax in enumerate(axes.flat):\n",
    "    ax.imshow(most_confident_samples_tf[i].reshape(8, 8), cmap=plt.cm.gray_r, interpolation='nearest')\n",
    "    ax.set_title(f\"{most_confident_labels_tf[i]}\")\n",
    "\n",
    "    # Removing axis labels\n",
    "    ax.set_xticks([])\n",
    "    ax.set_yticks([])\n",
    "    \n",
    "plt.show()"
   ]
  },
  {
   "cell_type": "markdown",
   "metadata": {},
   "source": [
    "## Impact of Initialization\n",
    "\n",
    "Let's study the impact of a bad initialization when training\n",
    "a deep feed forward network.\n",
    "\n",
    "By default, Keras dense layers use the \"Glorot Uniform\" initialization\n",
    "strategy to initialize the weight matrices:\n",
    "\n",
    "- each weight coefficient is randomly sampled from [-scale, scale]\n",
    "- scale is proportional to $\\frac{1}{\\sqrt{n_{in} + n_{out}}}$\n",
    "\n",
    "This strategy is known to work well to initialize deep neural networks\n",
    "with \"tanh\" or \"relu\" activation functions and then trained with\n",
    "standard SGD.\n",
    "\n",
    "To assess the impact of initialization let us plug an alternative init\n",
    "scheme into a 2 hidden layers networks with \"tanh\" activations.\n",
    "For the sake of the example let's use normal distributed weights\n",
    "with a manually adjustable scale (standard deviation) and see the\n",
    "impact the scale value:"
   ]
  },
  {
   "cell_type": "code",
   "execution_count": 21,
   "metadata": {},
   "outputs": [],
   "source": [
    "from tensorflow.keras import initializers\n",
    "from tensorflow.keras import optimizers\n",
    "\n",
    "input_dim = 64\n",
    "hidden_dim = 64\n",
    "output_dim = 10\n",
    "\n",
    "normal_init = initializers.TruncatedNormal(stddev=0.01, seed=42)\n",
    "\n",
    "model = Sequential()\n",
    "model.add(Dense(hidden_dim, input_dim=input_dim, activation=\"tanh\",\n",
    "                kernel_initializer=normal_init))\n",
    "model.add(Dense(hidden_dim, activation=\"tanh\",\n",
    "                kernel_initializer=normal_init))\n",
    "model.add(Dense(output_dim, activation=\"softmax\",\n",
    "                kernel_initializer=normal_init))\n",
    "\n",
    "model.compile(optimizer=optimizers.SGD(learning_rate=0.1),\n",
    "              loss='categorical_crossentropy', metrics=['accuracy'])"
   ]
  },
  {
   "cell_type": "code",
   "execution_count": 22,
   "metadata": {},
   "outputs": [
    {
     "data": {
      "text/plain": [
       "[<keras.layers.core.dense.Dense at 0x1acba983490>,\n",
       " <keras.layers.core.dense.Dense at 0x1acb909c460>,\n",
       " <keras.layers.core.dense.Dense at 0x1acba7acb80>]"
      ]
     },
     "execution_count": 22,
     "metadata": {},
     "output_type": "execute_result"
    }
   ],
   "source": [
    "model.layers"
   ]
  },
  {
   "cell_type": "markdown",
   "metadata": {},
   "source": [
    "Let's have a look at the parameters of the first layer after initialization but before any training has happened:"
   ]
  },
  {
   "cell_type": "code",
   "execution_count": 23,
   "metadata": {},
   "outputs": [
    {
     "data": {
      "text/plain": [
       "[<tf.Variable 'dense_7/kernel:0' shape=(64, 64) dtype=float32, numpy=\n",
       " array([[ 0.00015817, -0.01590087,  0.00103594, ...,  0.00962818,\n",
       "          0.00624957,  0.00994726],\n",
       "        [ 0.0081879 ,  0.00756818, -0.00668142, ...,  0.01084459,\n",
       "         -0.00317478, -0.00549116],\n",
       "        [-0.00086618, -0.00287623,  0.00391693, ...,  0.00064558,\n",
       "         -0.00420471,  0.00174566],\n",
       "        ...,\n",
       "        [-0.0029006 , -0.0091218 ,  0.00804327, ..., -0.01407086,\n",
       "          0.00952832, -0.01348555],\n",
       "        [ 0.00375078,  0.00967842,  0.00098119, ..., -0.00413454,\n",
       "          0.01695471,  0.00025196],\n",
       "        [ 0.00459809,  0.01223094, -0.00213172, ...,  0.01246831,\n",
       "         -0.00714749, -0.00868595]], dtype=float32)>,\n",
       " <tf.Variable 'dense_7/bias:0' shape=(64,) dtype=float32, numpy=\n",
       " array([0., 0., 0., 0., 0., 0., 0., 0., 0., 0., 0., 0., 0., 0., 0., 0., 0.,\n",
       "        0., 0., 0., 0., 0., 0., 0., 0., 0., 0., 0., 0., 0., 0., 0., 0., 0.,\n",
       "        0., 0., 0., 0., 0., 0., 0., 0., 0., 0., 0., 0., 0., 0., 0., 0., 0.,\n",
       "        0., 0., 0., 0., 0., 0., 0., 0., 0., 0., 0., 0., 0.], dtype=float32)>]"
      ]
     },
     "execution_count": 23,
     "metadata": {},
     "output_type": "execute_result"
    }
   ],
   "source": [
    "model.layers[0].weights"
   ]
  },
  {
   "cell_type": "code",
   "execution_count": 24,
   "metadata": {},
   "outputs": [
    {
     "data": {
      "text/plain": [
       "array([[ 0.00015817, -0.01590087,  0.00103594, ...,  0.00962818,\n",
       "         0.00624957,  0.00994726],\n",
       "       [ 0.0081879 ,  0.00756818, -0.00668142, ...,  0.01084459,\n",
       "        -0.00317478, -0.00549116],\n",
       "       [-0.00086618, -0.00287623,  0.00391693, ...,  0.00064558,\n",
       "        -0.00420471,  0.00174566],\n",
       "       ...,\n",
       "       [-0.0029006 , -0.0091218 ,  0.00804327, ..., -0.01407086,\n",
       "         0.00952832, -0.01348555],\n",
       "       [ 0.00375078,  0.00967842,  0.00098119, ..., -0.00413454,\n",
       "         0.01695471,  0.00025196],\n",
       "       [ 0.00459809,  0.01223094, -0.00213172, ...,  0.01246831,\n",
       "        -0.00714749, -0.00868595]], dtype=float32)"
      ]
     },
     "execution_count": 24,
     "metadata": {},
     "output_type": "execute_result"
    }
   ],
   "source": [
    "w = model.layers[0].weights[0].numpy()\n",
    "w"
   ]
  },
  {
   "cell_type": "code",
   "execution_count": 25,
   "metadata": {},
   "outputs": [
    {
     "data": {
      "text/plain": [
       "0.008835949"
      ]
     },
     "execution_count": 25,
     "metadata": {},
     "output_type": "execute_result"
    }
   ],
   "source": [
    "w.std()"
   ]
  },
  {
   "cell_type": "code",
   "execution_count": 26,
   "metadata": {},
   "outputs": [
    {
     "data": {
      "text/plain": [
       "array([0., 0., 0., 0., 0., 0., 0., 0., 0., 0., 0., 0., 0., 0., 0., 0., 0.,\n",
       "       0., 0., 0., 0., 0., 0., 0., 0., 0., 0., 0., 0., 0., 0., 0., 0., 0.,\n",
       "       0., 0., 0., 0., 0., 0., 0., 0., 0., 0., 0., 0., 0., 0., 0., 0., 0.,\n",
       "       0., 0., 0., 0., 0., 0., 0., 0., 0., 0., 0., 0., 0.], dtype=float32)"
      ]
     },
     "execution_count": 26,
     "metadata": {},
     "output_type": "execute_result"
    }
   ],
   "source": [
    "b = model.layers[0].weights[1].numpy()\n",
    "b"
   ]
  },
  {
   "cell_type": "code",
   "execution_count": 27,
   "metadata": {},
   "outputs": [
    {
     "name": "stdout",
     "output_type": "stream",
     "text": [
      "Epoch 1/15\n",
      "45/45 [==============================] - 2s 5ms/step - loss: 2.2863 - accuracy: 0.2366\n",
      "Epoch 2/15\n",
      "45/45 [==============================] - 0s 4ms/step - loss: 1.7757 - accuracy: 0.4558\n",
      "Epoch 3/15\n",
      "45/45 [==============================] - 0s 5ms/step - loss: 0.9829 - accuracy: 0.7314\n",
      "Epoch 4/15\n",
      "45/45 [==============================] - 0s 4ms/step - loss: 0.5608 - accuracy: 0.8455\n",
      "Epoch 5/15\n",
      "45/45 [==============================] - 0s 5ms/step - loss: 0.3316 - accuracy: 0.9151\n",
      "Epoch 6/15\n",
      "45/45 [==============================] - 0s 5ms/step - loss: 0.2245 - accuracy: 0.9443\n",
      "Epoch 7/15\n",
      "45/45 [==============================] - 0s 7ms/step - loss: 0.1686 - accuracy: 0.9589\n",
      "Epoch 8/15\n",
      "45/45 [==============================] - 0s 6ms/step - loss: 0.1351 - accuracy: 0.9673\n",
      "Epoch 9/15\n",
      "45/45 [==============================] - 0s 5ms/step - loss: 0.1010 - accuracy: 0.9743\n",
      "Epoch 10/15\n",
      "45/45 [==============================] - 1s 13ms/step - loss: 0.1015 - accuracy: 0.9694\n",
      "Epoch 11/15\n",
      "45/45 [==============================] - 0s 10ms/step - loss: 0.0916 - accuracy: 0.9784\n",
      "Epoch 12/15\n",
      "45/45 [==============================] - 1s 13ms/step - loss: 0.0732 - accuracy: 0.9826\n",
      "Epoch 13/15\n",
      "45/45 [==============================] - 0s 4ms/step - loss: 0.0553 - accuracy: 0.9889\n",
      "Epoch 14/15\n",
      "45/45 [==============================] - 0s 8ms/step - loss: 0.0436 - accuracy: 0.9916\n",
      "Epoch 15/15\n",
      "45/45 [==============================] - 0s 8ms/step - loss: 0.0343 - accuracy: 0.9937\n"
     ]
    },
    {
     "data": {
      "image/png": "[encoded data removed]",
      "text/plain": [
       "<Figure size 1200x400 with 1 Axes>"
      ]
     },
     "metadata": {},
     "output_type": "display_data"
    }
   ],
   "source": [
    "history = model.fit(X_train, y_train, epochs=15, batch_size=32)\n",
    "\n",
    "plt.figure(figsize=(12, 4))\n",
    "plt.plot(history.history['loss'], label=\"Truncated Normal init\")\n",
    "plt.legend();"
   ]
  },
  {
   "cell_type": "markdown",
   "metadata": {},
   "source": [
    "Once the model has been fit, the weights have been updated and notably the biases are no longer 0:"
   ]
  },
  {
   "cell_type": "code",
   "execution_count": 28,
   "metadata": {},
   "outputs": [
    {
     "data": {
      "text/plain": [
       "[<tf.Variable 'dense_7/kernel:0' shape=(64, 64) dtype=float32, numpy=\n",
       " array([[ 1.5817076e-04, -1.5900869e-02,  1.0359446e-03, ...,\n",
       "          9.6281823e-03,  6.2495731e-03,  9.9472618e-03],\n",
       "        [-3.2871433e-03, -3.9348514e-03, -7.9934793e-03, ...,\n",
       "         -2.5794005e-03, -1.8208727e-02, -3.8494263e-02],\n",
       "        [-8.3618276e-02, -1.8804779e-02, -8.3474681e-02, ...,\n",
       "         -2.2725469e-02, -1.2503907e-01,  1.3273974e-02],\n",
       "        ...,\n",
       "        [ 5.8690820e-02, -4.4873874e-03,  1.0900233e-01, ...,\n",
       "         -9.4857298e-02,  4.9510961e-03, -1.7785135e-01],\n",
       "        [ 4.3609813e-02, -4.3012079e-02,  7.5235255e-02, ...,\n",
       "         -7.4848637e-02, -1.4183105e-02, -1.3677397e-01],\n",
       "        [ 2.3584908e-02,  1.3134367e-03,  3.9951332e-02, ...,\n",
       "          4.5502424e-02,  3.4718432e-02, -6.0569867e-02]], dtype=float32)>,\n",
       " <tf.Variable 'dense_7/bias:0' shape=(64,) dtype=float32, numpy=\n",
       " array([-4.0806545e-04,  2.0480100e-03,  1.3186722e-03, -1.0980228e-03,\n",
       "        -3.7486553e-03,  1.1459341e-04, -1.1534669e-03, -5.5686932e-04,\n",
       "         7.9561252e-04, -1.1010019e-03,  9.6175802e-04,  3.1175676e-03,\n",
       "         1.5765986e-03,  1.5363056e-03, -1.5017762e-03, -3.9484261e-05,\n",
       "         4.8942077e-03,  1.0293620e-03, -5.4809212e-04, -2.1304528e-03,\n",
       "         1.3947263e-03, -9.2800648e-04,  1.6724175e-03,  1.9095545e-03,\n",
       "         4.8123416e-03, -5.9771439e-04,  3.1952758e-03,  1.1400761e-03,\n",
       "         3.4394881e-04,  5.6147104e-04,  2.2078957e-03, -1.5814668e-04,\n",
       "         1.1000097e-03,  1.7586369e-03,  2.1548099e-03, -1.1829006e-03,\n",
       "        -1.8218817e-03,  9.7579957e-04, -2.3789771e-03, -6.0999140e-05,\n",
       "         6.1241601e-04, -5.4421811e-04, -2.0280671e-03,  8.1855076e-04,\n",
       "         8.2207337e-04, -1.5344926e-03,  4.1100918e-03, -2.8014625e-03,\n",
       "         1.8681278e-03,  1.2247306e-03,  3.4282457e-03, -4.2551905e-03,\n",
       "        -6.4728302e-03, -3.4579246e-03, -3.3280542e-03, -2.6566405e-03,\n",
       "         2.5192364e-03,  1.5315183e-03,  6.2985858e-04, -3.6664272e-04,\n",
       "         7.2552572e-04, -2.2816256e-04, -3.9564860e-03,  1.1375312e-05],\n",
       "       dtype=float32)>]"
      ]
     },
     "execution_count": 28,
     "metadata": {},
     "output_type": "execute_result"
    }
   ],
   "source": [
    "model.layers[0].weights"
   ]
  },
  {
   "cell_type": "markdown",
   "metadata": {},
   "source": [
    "#### Questions:\n",
    "\n",
    "- Try the following initialization schemes and see whether\n",
    "  the SGD algorithm can successfully train the network or\n",
    "  not:\n",
    "  \n",
    "  - a very small e.g. `stddev=1e-3`\n",
    "  - a larger scale e.g. `stddev=1` or `10`\n",
    "  - initialize all weights to 0 (constant initialization)\n",
    "  \n",
    "- What do you observe? Can you find an explanation for those\n",
    "  outcomes?\n",
    "\n",
    "- Are more advanced solvers such as SGD with momentum or Adam able\n",
    "  to deal better with such bad initializations?"
   ]
  },
  {
   "cell_type": "code",
   "execution_count": 34,
   "metadata": {},
   "outputs": [
    {
     "name": "stdout",
     "output_type": "stream",
     "text": [
      "Epoch 1/15\n",
      "45/45 [==============================] - 3s 11ms/step - loss: 2.3036 - accuracy: 0.0870\n",
      "Epoch 2/15\n",
      "45/45 [==============================] - 0s 9ms/step - loss: 2.3034 - accuracy: 0.1030\n",
      "Epoch 3/15\n",
      "45/45 [==============================] - 1s 20ms/step - loss: 2.3031 - accuracy: 0.1044\n",
      "Epoch 4/15\n",
      "45/45 [==============================] - 0s 7ms/step - loss: 2.3030 - accuracy: 0.1072\n",
      "Epoch 5/15\n",
      "45/45 [==============================] - 0s 6ms/step - loss: 2.3031 - accuracy: 0.1037\n",
      "Epoch 6/15\n",
      "45/45 [==============================] - 0s 7ms/step - loss: 2.3031 - accuracy: 0.1072\n",
      "Epoch 7/15\n",
      "45/45 [==============================] - 0s 7ms/step - loss: 2.3031 - accuracy: 0.1051\n",
      "Epoch 8/15\n",
      "45/45 [==============================] - 0s 9ms/step - loss: 2.3030 - accuracy: 0.1072\n",
      "Epoch 9/15\n",
      "45/45 [==============================] - 1s 16ms/step - loss: 2.3018 - accuracy: 0.1023\n",
      "Epoch 10/15\n",
      "45/45 [==============================] - 1s 14ms/step - loss: 2.1381 - accuracy: 0.1809\n",
      "Epoch 11/15\n",
      "45/45 [==============================] - 0s 6ms/step - loss: 1.7895 - accuracy: 0.2157\n",
      "Epoch 12/15\n",
      "45/45 [==============================] - 0s 7ms/step - loss: 1.6259 - accuracy: 0.2610\n",
      "Epoch 13/15\n",
      "45/45 [==============================] - 0s 7ms/step - loss: 1.4527 - accuracy: 0.3584\n",
      "Epoch 14/15\n",
      "45/45 [==============================] - 0s 9ms/step - loss: 1.1910 - accuracy: 0.5296\n",
      "Epoch 15/15\n",
      "45/45 [==============================] - 0s 6ms/step - loss: 0.9630 - accuracy: 0.6186\n"
     ]
    },
    {
     "data": {
      "text/plain": [
       "<keras.callbacks.History at 0x1acbb0ada30>"
      ]
     },
     "execution_count": 34,
     "metadata": {},
     "output_type": "execute_result"
    }
   ],
   "source": [
    "# Your code here\n",
    "input_dim = 64\n",
    "hidden_dim = 64\n",
    "output_dim = 10\n",
    "\n",
    "normal_init = initializers.TruncatedNormal(stddev=1e-3, seed=42)\n",
    "\n",
    "model = Sequential()\n",
    "model.add(Dense(hidden_dim, input_dim=input_dim, activation=\"tanh\",\n",
    "                kernel_initializer=normal_init))\n",
    "model.add(Dense(hidden_dim, activation=\"tanh\",\n",
    "                kernel_initializer=normal_init))\n",
    "model.add(Dense(output_dim, activation=\"softmax\",\n",
    "                kernel_initializer=normal_init))\n",
    "\n",
    "model.compile(optimizer=optimizers.SGD(learning_rate=0.1),\n",
    "              loss='categorical_crossentropy', metrics=['accuracy'])\n",
    "\n",
    "model.fit(X_train,y_train, epochs=15, batch_size=32)"
   ]
  },
  {
   "cell_type": "code",
   "execution_count": 35,
   "metadata": {},
   "outputs": [
    {
     "name": "stdout",
     "output_type": "stream",
     "text": [
      "Epoch 1/15\n",
      "45/45 [==============================] - 4s 8ms/step - loss: 4.4508 - accuracy: 0.2853\n",
      "Epoch 2/15\n",
      "45/45 [==============================] - 1s 15ms/step - loss: 1.9787 - accuracy: 0.4997\n",
      "Epoch 3/15\n",
      "45/45 [==============================] - 2s 38ms/step - loss: 1.4376 - accuracy: 0.5880\n",
      "Epoch 4/15\n",
      "45/45 [==============================] - 0s 5ms/step - loss: 1.1984 - accuracy: 0.6590\n",
      "Epoch 5/15\n",
      "45/45 [==============================] - 1s 17ms/step - loss: 1.1370 - accuracy: 0.6514\n",
      "Epoch 6/15\n",
      "45/45 [==============================] - 0s 5ms/step - loss: 0.9424 - accuracy: 0.7216\n",
      "Epoch 7/15\n",
      "45/45 [==============================] - 0s 9ms/step - loss: 0.8342 - accuracy: 0.7474\n",
      "Epoch 8/15\n",
      "45/45 [==============================] - 0s 9ms/step - loss: 0.7895 - accuracy: 0.7648\n",
      "Epoch 9/15\n",
      "45/45 [==============================] - 0s 6ms/step - loss: 0.7135 - accuracy: 0.7878\n",
      "Epoch 10/15\n",
      "45/45 [==============================] - 1s 14ms/step - loss: 0.7147 - accuracy: 0.7905\n",
      "Epoch 11/15\n",
      "45/45 [==============================] - 0s 7ms/step - loss: 0.6246 - accuracy: 0.8010\n",
      "Epoch 12/15\n",
      "45/45 [==============================] - 1s 25ms/step - loss: 0.5982 - accuracy: 0.8170\n",
      "Epoch 13/15\n",
      "45/45 [==============================] - 0s 7ms/step - loss: 0.5259 - accuracy: 0.8365\n",
      "Epoch 14/15\n",
      "45/45 [==============================] - 0s 7ms/step - loss: 0.4782 - accuracy: 0.8392\n",
      "Epoch 15/15\n",
      "45/45 [==============================] - 0s 6ms/step - loss: 0.4613 - accuracy: 0.8553\n"
     ]
    },
    {
     "data": {
      "text/plain": [
       "<keras.callbacks.History at 0x1acbb19b040>"
      ]
     },
     "execution_count": 35,
     "metadata": {},
     "output_type": "execute_result"
    }
   ],
   "source": [
    "# Your code here\n",
    "input_dim = 64\n",
    "hidden_dim = 64\n",
    "output_dim = 10\n",
    "\n",
    "normal_init = initializers.TruncatedNormal(stddev=1, seed=42)\n",
    "\n",
    "model = Sequential()\n",
    "model.add(Dense(hidden_dim, input_dim=input_dim, activation=\"tanh\",\n",
    "                kernel_initializer=normal_init))\n",
    "model.add(Dense(hidden_dim, activation=\"tanh\",\n",
    "                kernel_initializer=normal_init))\n",
    "model.add(Dense(output_dim, activation=\"softmax\",\n",
    "                kernel_initializer=normal_init))\n",
    "\n",
    "model.compile(optimizer=optimizers.SGD(learning_rate=0.1),\n",
    "              loss='categorical_crossentropy', metrics=['accuracy'])\n",
    "\n",
    "model.fit(X_train,y_train, epochs=15, batch_size=32)"
   ]
  },
  {
   "cell_type": "code",
   "execution_count": 36,
   "metadata": {},
   "outputs": [
    {
     "name": "stdout",
     "output_type": "stream",
     "text": [
      "Epoch 1/15\n",
      "45/45 [==============================] - 6s 9ms/step - loss: 87.8971 - accuracy: 0.1120\n",
      "Epoch 2/15\n",
      "45/45 [==============================] - 0s 10ms/step - loss: 61.0117 - accuracy: 0.1364\n",
      "Epoch 3/15\n",
      "45/45 [==============================] - 0s 8ms/step - loss: 46.8732 - accuracy: 0.1329\n",
      "Epoch 4/15\n",
      "45/45 [==============================] - 0s 9ms/step - loss: 34.1582 - accuracy: 0.1329\n",
      "Epoch 5/15\n",
      "45/45 [==============================] - 1s 13ms/step - loss: 31.3441 - accuracy: 0.1315\n",
      "Epoch 6/15\n",
      "45/45 [==============================] - 1s 14ms/step - loss: 25.1071 - accuracy: 0.1301\n",
      "Epoch 7/15\n",
      "45/45 [==============================] - 1s 27ms/step - loss: 16.9663 - accuracy: 0.1823\n",
      "Epoch 8/15\n",
      "45/45 [==============================] - 1s 14ms/step - loss: 13.9245 - accuracy: 0.2025\n",
      "Epoch 9/15\n",
      "45/45 [==============================] - 1s 14ms/step - loss: 12.7409 - accuracy: 0.2129\n",
      "Epoch 10/15\n",
      "45/45 [==============================] - 1s 18ms/step - loss: 11.6833 - accuracy: 0.1935\n",
      "Epoch 11/15\n",
      "45/45 [==============================] - 1s 23ms/step - loss: 9.9124 - accuracy: 0.2150\n",
      "Epoch 12/15\n",
      "45/45 [==============================] - 1s 16ms/step - loss: 8.5589 - accuracy: 0.1893\n",
      "Epoch 13/15\n",
      "45/45 [==============================] - 1s 28ms/step - loss: 7.6391 - accuracy: 0.1921\n",
      "Epoch 14/15\n",
      "45/45 [==============================] - 1s 16ms/step - loss: 7.0817 - accuracy: 0.2143\n",
      "Epoch 15/15\n",
      "45/45 [==============================] - 4s 83ms/step - loss: 6.7191 - accuracy: 0.2178\n"
     ]
    },
    {
     "data": {
      "text/plain": [
       "<keras.callbacks.History at 0x1acbc4398e0>"
      ]
     },
     "execution_count": 36,
     "metadata": {},
     "output_type": "execute_result"
    }
   ],
   "source": [
    "# Your code here\n",
    "input_dim = 64\n",
    "hidden_dim = 64\n",
    "output_dim = 10\n",
    "\n",
    "normal_init = initializers.TruncatedNormal(stddev=10, seed=42)\n",
    "\n",
    "model = Sequential()\n",
    "model.add(Dense(hidden_dim, input_dim=input_dim, activation=\"tanh\",\n",
    "                kernel_initializer=normal_init))\n",
    "model.add(Dense(hidden_dim, activation=\"tanh\",\n",
    "                kernel_initializer=normal_init))\n",
    "model.add(Dense(output_dim, activation=\"softmax\",\n",
    "                kernel_initializer=normal_init))\n",
    "\n",
    "model.compile(optimizer=optimizers.SGD(learning_rate=0.1),\n",
    "              loss='categorical_crossentropy', metrics=['accuracy'])\n",
    "\n",
    "model.fit(X_train,y_train, epochs=15, batch_size=32)"
   ]
  },
  {
   "cell_type": "code",
   "execution_count": 37,
   "metadata": {},
   "outputs": [
    {
     "name": "stdout",
     "output_type": "stream",
     "text": [
      "Epoch 1/15\n",
      "45/45 [==============================] - 3s 12ms/step - loss: 2.3036 - accuracy: 0.1023\n",
      "Epoch 2/15\n",
      "45/45 [==============================] - 0s 9ms/step - loss: 2.3034 - accuracy: 0.0974\n",
      "Epoch 3/15\n",
      "45/45 [==============================] - 0s 8ms/step - loss: 2.3032 - accuracy: 0.1072\n",
      "Epoch 4/15\n",
      "45/45 [==============================] - 2s 35ms/step - loss: 2.3032 - accuracy: 0.1072\n",
      "Epoch 5/15\n",
      "45/45 [==============================] - 1s 9ms/step - loss: 2.3032 - accuracy: 0.1072\n",
      "Epoch 6/15\n",
      "45/45 [==============================] - 0s 9ms/step - loss: 2.3031 - accuracy: 0.1030\n",
      "Epoch 7/15\n",
      "45/45 [==============================] - 1s 16ms/step - loss: 2.3031 - accuracy: 0.1051\n",
      "Epoch 8/15\n",
      "45/45 [==============================] - 0s 8ms/step - loss: 2.3030 - accuracy: 0.1058\n",
      "Epoch 9/15\n",
      "45/45 [==============================] - 0s 8ms/step - loss: 2.3030 - accuracy: 0.1072\n",
      "Epoch 10/15\n",
      "45/45 [==============================] - 1s 22ms/step - loss: 2.3033 - accuracy: 0.1016\n",
      "Epoch 11/15\n",
      "45/45 [==============================] - 1s 13ms/step - loss: 2.3033 - accuracy: 0.1072\n",
      "Epoch 12/15\n",
      "45/45 [==============================] - 0s 8ms/step - loss: 2.3032 - accuracy: 0.1023\n",
      "Epoch 13/15\n",
      "45/45 [==============================] - 1s 15ms/step - loss: 2.3031 - accuracy: 0.1044\n",
      "Epoch 14/15\n",
      "45/45 [==============================] - 3s 57ms/step - loss: 2.3031 - accuracy: 0.1072\n",
      "Epoch 15/15\n",
      "45/45 [==============================] - 2s 44ms/step - loss: 2.3033 - accuracy: 0.1030\n"
     ]
    },
    {
     "data": {
      "text/plain": [
       "<keras.callbacks.History at 0x1acb7af7f10>"
      ]
     },
     "execution_count": 37,
     "metadata": {},
     "output_type": "execute_result"
    }
   ],
   "source": [
    "# Your code here\n",
    "input_dim = 64\n",
    "hidden_dim = 64\n",
    "output_dim = 10\n",
    "\n",
    "zero_init = initializers.Zeros()\n",
    "\n",
    "model = Sequential()\n",
    "model.add(Dense(hidden_dim, input_dim=input_dim, activation=\"tanh\",\n",
    "                kernel_initializer=zero_init))\n",
    "model.add(Dense(hidden_dim, activation=\"tanh\",\n",
    "                kernel_initializer=zero_init))\n",
    "model.add(Dense(output_dim, activation=\"softmax\",\n",
    "                kernel_initializer=zero_init))\n",
    "\n",
    "model.compile(optimizer=optimizers.SGD(learning_rate=0.1),\n",
    "              loss='categorical_crossentropy', metrics=['accuracy'])\n",
    "\n",
    "model.fit(X_train,y_train, epochs=15, batch_size=32)"
   ]
  }
 ],
 "metadata": {
  "file_extension": ".py",
  "kernelspec": {
   "display_name": "Python 3 (ipykernel)",
   "language": "python",
   "name": "python3"
  },
  "language_info": {
   "codemirror_mode": {
    "name": "ipython",
    "version": 3
   },
   "file_extension": ".py",
   "mimetype": "text/x-python",
   "name": "python",
   "nbconvert_exporter": "python",
   "pygments_lexer": "ipython3",
   "version": "3.9.15"
  },
  "mimetype": "text/x-python",
  "name": "python",
  "npconvert_exporter": "python",
  "pygments_lexer": "ipython3",
  "toc": {
   "base_numbering": 1,
   "nav_menu": {},
   "number_sections": true,
   "sideBar": true,
   "skip_h1_title": false,
   "title_cell": "Table of Contents",
   "title_sidebar": "Contents",
   "toc_cell": false,
   "toc_position": {},
   "toc_section_display": true,
   "toc_window_display": false
  },
  "version": 3
 },
 "nbformat": 4,
 "nbformat_minor": 4
}
